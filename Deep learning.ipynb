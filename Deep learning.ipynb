{
 "cells": [
  {
   "cell_type": "markdown",
   "metadata": {},
   "source": [
    "# Importing packages"
   ]
  },
  {
   "cell_type": "code",
   "execution_count": 70,
   "metadata": {},
   "outputs": [],
   "source": [
    "%matplotlib inline\n",
    "\n",
    "import matplotlib.pyplot as plt\n",
    "import seaborn as sns\n",
    "import os\n",
    "import numpy as np\n",
    "import pandas as pd\n",
    "from tqdm import tqdm\n",
    "\n",
    "from skimage.transform import resize\n",
    "from skimage.io import imsave\n",
    "from sklearn.model_selection import train_test_split\n",
    "\n",
    "import tensorflow as tf\n",
    "import keras\n",
    "from keras.applications.vgg16 import VGG16, preprocess_input\n",
    "from keras.preprocessing.image import ImageDataGenerator, img_to_array, load_img\n",
    "\n",
    "from keras.models import Sequential\n",
    "from keras.models import Model\n",
    "from keras.layers import Conv2D\n",
    "from keras.layers import MaxPooling2D\n",
    "from keras.layers import BatchNormalization\n",
    "from keras.layers import Dense\n",
    "from keras.layers import Flatten\n",
    "from keras.layers import Dropout\n",
    "from keras.optimizers import SGD\n",
    "from keras.optimizers import Adam\n",
    "from keras.models import load_model\n",
    "\n",
    "from sklearn.metrics import accuracy_score\n",
    "from sklearn.metrics import precision_score\n",
    "from sklearn.metrics import recall_score\n",
    "from sklearn.metrics import f1_score"
   ]
  },
  {
   "cell_type": "markdown",
   "metadata": {},
   "source": [
    "# Preparing the dataset"
   ]
  },
  {
   "cell_type": "code",
   "execution_count": 3,
   "metadata": {},
   "outputs": [],
   "source": [
    "tags_path = os.path.join('D:/Kaggle_Datasets/Amazon uderstanding/train_v2.csv')\n",
    "image_path = os.path.join(('D:/Kaggle_Datasets/Amazon uderstanding/train-jpg/train-jpg'))"
   ]
  },
  {
   "cell_type": "code",
   "execution_count": 4,
   "metadata": {},
   "outputs": [],
   "source": [
    "# Function creating a mapping of tags to integers\n",
    "def tag_mapping(tag_csv):\n",
    "    \n",
    "    tags_ = set()\n",
    "    for i in range(len(tag_csv)):\n",
    "        \n",
    "        # To get each tag\n",
    "        tags = tag_csv['tags'][i].split(' ')\n",
    "        tags_.update(tags)   # To add only a single argument\n",
    "    \n",
    "    # To sort tags, so convert to list\n",
    "    tags_ = list(tags_)   \n",
    "    tags_.sort()\n",
    "    \n",
    "    # To determine every tag with the key number \n",
    "    tags_map = {tags_[i]:i for i in range(len(tags_))}\n",
    "    return tags_map"
   ]
  },
  {
   "cell_type": "code",
   "execution_count": 5,
   "metadata": {},
   "outputs": [],
   "source": [
    "# Function creating a mapping of filename to integers\n",
    "def file_mapping(tag_csv):\n",
    "    \n",
    "    f_map = {}\n",
    "    for i in range(len(tag_csv)):\n",
    "        filename = tag_csv['image_name'][i]\n",
    "        tag_name = tag_csv['tags'][i]\n",
    "        \n",
    "        f_map[filename] = tag_name.split(' ')\n",
    "        \n",
    "    return f_map"
   ]
  },
  {
   "cell_type": "code",
   "execution_count": 6,
   "metadata": {},
   "outputs": [],
   "source": [
    "# create a one hot encoding for one list of tags\n",
    "def one_hot_encoding(tags, filename_mapping):\n",
    "\n",
    "    # create empty vector\n",
    "    oh_encoding = np.zeros(len(filename_mapping), dtype='uint8')\n",
    "    \n",
    "    # mark 1 for each tag in the vector\n",
    "    for tag in tags:\n",
    "        oh_encoding[filename_mapping[tag]] = 1\n",
    "        \n",
    "    return oh_encoding"
   ]
  },
  {
   "cell_type": "code",
   "execution_count": 7,
   "metadata": {},
   "outputs": [],
   "source": [
    "# To load the dataset (images and tags)\n",
    "def make_dataset(path, file_mapping, tag_mapping):\n",
    "\n",
    "    images = [] \n",
    "    targets = []\n",
    "    \n",
    "    for filename in tqdm(os.listdir(path)):\n",
    "        \n",
    "        # load image \n",
    "        img = load_img(path + '/' + filename, target_size=(128,128))\n",
    "        \n",
    "        # convert to numpy array\n",
    "        img = img_to_array(img, dtype='uint8')\n",
    "        \n",
    "        # To obtaing all tags\n",
    "        tags = file_mapping[filename[:-4]]\n",
    "        \n",
    "        # To encode all tags\n",
    "        target = one_hot_encoding(tags, tag_mapping)\n",
    "        \n",
    "        images.append(img)\n",
    "        targets.append(target)\n",
    "        \n",
    "    X = np.asarray(images, dtype='uint8')\n",
    "    Y = np.asarray(targets, dtype='uint8')\n",
    "    \n",
    "    return X, Y"
   ]
  },
  {
   "cell_type": "code",
   "execution_count": 8,
   "metadata": {},
   "outputs": [
    {
     "name": "stderr",
     "output_type": "stream",
     "text": [
      "100%|██████████| 2520/2520 [00:24<00:00, 104.13it/s]\n"
     ]
    },
    {
     "name": "stdout",
     "output_type": "stream",
     "text": [
      "X shape is: (2520, 128, 128, 3)\n",
      "Y shape is: (2520, 17)\n"
     ]
    }
   ],
   "source": [
    "# load the mapping file\n",
    "filename = 'D:/Kaggle_Datasets/Amazon uderstanding/train_v2.csv'\n",
    "tag_csv = pd.read_csv(tags_path)\n",
    " \n",
    "tags_mapping =tag_mapping(tag_csv)\n",
    "\n",
    "filename_mapping = file_mapping(tag_csv)\n",
    "\n",
    "# loading the images with jpg format\n",
    "folder = image_path\n",
    "X, Y = make_dataset(folder, filename_mapping, tags_mapping)\n",
    "\n",
    "print('X shape is:', X.shape) \n",
    "print('Y shape is:', Y.shape)"
   ]
  },
  {
   "cell_type": "code",
   "execution_count": 9,
   "metadata": {},
   "outputs": [
    {
     "name": "stdout",
     "output_type": "stream",
     "text": [
      "x_train shape: (1764, 128, 128, 3)\n",
      "x_test shape: (756, 128, 128, 3)\n",
      "y_train shape: (1764, 17)\n",
      "y_test shape: (756, 17)\n"
     ]
    }
   ],
   "source": [
    "# To separate training and test data\n",
    "x_train, x_test, y_train, y_test = train_test_split(X, Y, test_size=0.3, random_state=42)\n",
    "\n",
    "print('x_train shape:', x_train.shape)\n",
    "print('x_test shape:', x_test.shape)\n",
    "print('y_train shape:', y_train.shape)\n",
    "print('y_test shape:', y_test.shape)"
   ]
  },
  {
   "cell_type": "markdown",
   "metadata": {},
   "source": [
    "# Convolutional Neural Network model"
   ]
  },
  {
   "cell_type": "markdown",
   "metadata": {},
   "source": [
    "# 1- CNN model witout Dropout and Image Augmentation"
   ]
  },
  {
   "cell_type": "markdown",
   "metadata": {},
   "source": [
    "The structure of the basic CNN model including:\n",
    "    \n",
    "1- The Convolutional layer is to extract features\n",
    "\n",
    "2- The Pooling layer to reduce the number of features and avoid to overfitting\n",
    "\n",
    "3- The Flatten layer is equal to reshape of data\n",
    "\n",
    "4- The dense layer is the classifier"
   ]
  },
  {
   "cell_type": "code",
   "execution_count": 13,
   "metadata": {},
   "outputs": [
    {
     "name": "stdout",
     "output_type": "stream",
     "text": [
      "WARNING:tensorflow:From C:\\Users\\VHD\\anaconda3\\envs\\tf\\lib\\site-packages\\keras\\backend\\tensorflow_backend.py:4070: The name tf.nn.max_pool is deprecated. Please use tf.nn.max_pool2d instead.\n",
      "\n",
      "Model: \"sequential_1\"\n",
      "_________________________________________________________________\n",
      "Layer (type)                 Output Shape              Param #   \n",
      "=================================================================\n",
      "conv2d_1 (Conv2D)            (None, 128, 128, 32)      896       \n",
      "_________________________________________________________________\n",
      "conv2d_2 (Conv2D)            (None, 128, 128, 32)      9248      \n",
      "_________________________________________________________________\n",
      "max_pooling2d_1 (MaxPooling2 (None, 64, 64, 32)        0         \n",
      "_________________________________________________________________\n",
      "conv2d_3 (Conv2D)            (None, 64, 64, 64)        18496     \n",
      "_________________________________________________________________\n",
      "conv2d_4 (Conv2D)            (None, 64, 64, 64)        36928     \n",
      "_________________________________________________________________\n",
      "max_pooling2d_2 (MaxPooling2 (None, 32, 32, 64)        0         \n",
      "_________________________________________________________________\n",
      "conv2d_5 (Conv2D)            (None, 32, 32, 128)       73856     \n",
      "_________________________________________________________________\n",
      "conv2d_6 (Conv2D)            (None, 32, 32, 128)       147584    \n",
      "_________________________________________________________________\n",
      "max_pooling2d_3 (MaxPooling2 (None, 16, 16, 128)       0         \n",
      "_________________________________________________________________\n",
      "flatten_1 (Flatten)          (None, 32768)             0         \n",
      "_________________________________________________________________\n",
      "dense_1 (Dense)              (None, 128)               4194432   \n",
      "_________________________________________________________________\n",
      "dense_2 (Dense)              (None, 17)                2193      \n",
      "=================================================================\n",
      "Total params: 4,483,633\n",
      "Trainable params: 4,483,633\n",
      "Non-trainable params: 0\n",
      "_________________________________________________________________\n",
      "WARNING:tensorflow:From C:\\Users\\VHD\\anaconda3\\envs\\tf\\lib\\site-packages\\tensorflow\\python\\ops\\nn_impl.py:180: add_dispatch_support.<locals>.wrapper (from tensorflow.python.ops.array_ops) is deprecated and will be removed in a future version.\n",
      "Instructions for updating:\n",
      "Use tf.where in 2.0, which has the same broadcast rule as np.where\n",
      "WARNING:tensorflow:From C:\\Users\\VHD\\anaconda3\\envs\\tf\\lib\\site-packages\\keras\\backend\\tensorflow_backend.py:422: The name tf.global_variables is deprecated. Please use tf.compat.v1.global_variables instead.\n",
      "\n",
      "Train on 1764 samples, validate on 756 samples\n",
      "Epoch 1/5\n",
      "1764/1764 [==============================] - 1002s 568ms/step - loss: 14.7607 - accuracy: 0.8412 - val_loss: 0.2614 - val_accuracy: 0.9130\n",
      "Epoch 2/5\n",
      "1764/1764 [==============================] - 1006s 570ms/step - loss: 0.2415 - accuracy: 0.9109 - val_loss: 0.2348 - val_accuracy: 0.9154\n",
      "Epoch 3/5\n",
      "1764/1764 [==============================] - 1040s 589ms/step - loss: 0.2248 - accuracy: 0.9124 - val_loss: 0.2237 - val_accuracy: 0.9167\n",
      "Epoch 4/5\n",
      "1764/1764 [==============================] - 1039s 589ms/step - loss: 0.2173 - accuracy: 0.9152 - val_loss: 0.2286 - val_accuracy: 0.9180\n",
      "Epoch 5/5\n",
      "1764/1764 [==============================] - 1056s 598ms/step - loss: 0.2157 - accuracy: 0.9183 - val_loss: 0.2302 - val_accuracy: 0.9134\n"
     ]
    }
   ],
   "source": [
    "# Set CNN model\n",
    "\n",
    "model = Sequential()\n",
    "\n",
    "# Convolutional block 1\n",
    "model.add(Conv2D(32, (3,3), activation='relu', kernel_initializer='he_uniform', padding='same', input_shape=(128, 128, 3)))\n",
    "model.add(Conv2D(32, (3,3), activation='relu', kernel_initializer='he_uniform', padding='same'))\n",
    "model.add(MaxPooling2D(pool_size=(2,2)))\n",
    "\n",
    "# Convolutional block 2\n",
    "model.add(Conv2D(64, (3,3), activation='relu', kernel_initializer='he_uniform', padding='same'))\n",
    "model.add(Conv2D(64, (3,3), activation='relu', kernel_initializer='he_uniform', padding='same'))\n",
    "model.add(MaxPooling2D(pool_size=(2,2)))\n",
    "\n",
    "# Convolutional block 3\n",
    "model.add(Conv2D(128, (3,3), activation='relu', kernel_initializer='he_uniform', padding='same'))\n",
    "model.add(Conv2D(128, (3,3), activation='relu', kernel_initializer='he_uniform', padding='same'))\n",
    "model.add(MaxPooling2D(pool_size=(2,2)))\n",
    "\n",
    "model.add(Flatten())\n",
    "model.add(Dense(128, activation='relu', kernel_initializer='he_uniform'))\n",
    "# For multilabel classification, use sigmoid because softmax is useful for mutually exclusive classes\n",
    "model.add(Dense(17, activation='sigmoid'))\n",
    "model.summary()\n",
    "\n",
    "# Compile the model\n",
    "model.compile(optimizer='adam', loss='binary_crossentropy', metrics=['accuracy'])\n",
    "# Fit the model\n",
    "history = model.fit(x_train, y_train, epochs=5, validation_data=(x_test, y_test), batch_size=64)"
   ]
  },
  {
   "cell_type": "markdown",
   "metadata": {},
   "source": [
    "To evaluate training"
   ]
  },
  {
   "cell_type": "code",
   "execution_count": 14,
   "metadata": {},
   "outputs": [
    {
     "data": {
      "image/png": "[encoded data removed]",
      "text/plain": [
       "<Figure size 432x288 with 1 Axes>"
      ]
     },
     "metadata": {
      "needs_background": "light"
     },
     "output_type": "display_data"
    }
   ],
   "source": [
    "loss = history.history['loss']\n",
    "val_loss = history.history['val_loss']\n",
    "epochs = range(1, len(loss) + 1)\n",
    "plt.plot(epochs, loss, 'y', label='Training loss')\n",
    "plt.plot(epochs, val_loss, 'r', label='Validation loss')\n",
    "plt.title('Training and validation loss')\n",
    "plt.xlabel('Epochs')\n",
    "plt.ylabel('Loss')\n",
    "plt.legend()\n",
    "plt.show()"
   ]
  },
  {
   "cell_type": "code",
   "execution_count": 16,
   "metadata": {},
   "outputs": [
    {
     "data": {
      "image/png": "[encoded data removed]",
      "text/plain": [
       "<Figure size 432x288 with 1 Axes>"
      ]
     },
     "metadata": {
      "needs_background": "light"
     },
     "output_type": "display_data"
    }
   ],
   "source": [
    "acc = history.history['accuracy']\n",
    "val_acc = history.history['val_accuracy']\n",
    "plt.plot(epochs, acc, 'y', label='Training accuracy')\n",
    "plt.plot(epochs, val_acc, 'r', label='Validation accuracy')\n",
    "plt.title('Training and validation accuracy')\n",
    "plt.xlabel('Epochs')\n",
    "plt.ylabel('Accuracy')\n",
    "plt.legend()\n",
    "plt.show()"
   ]
  },
  {
   "cell_type": "code",
   "execution_count": 17,
   "metadata": {},
   "outputs": [
    {
     "name": "stdout",
     "output_type": "stream",
     "text": [
      "Test Score =  0.23023904450040647\n",
      "Test Accuracy =  0.9133986234664917\n"
     ]
    }
   ],
   "source": [
    "score = model.evaluate(x_test, y_test, verbose=0)\n",
    "print(\"Test Score = \", score[0])\n",
    "print(\"Test Accuracy = \", score[1])"
   ]
  },
  {
   "cell_type": "code",
   "execution_count": 60,
   "metadata": {},
   "outputs": [],
   "source": [
    "# Predict model\n",
    "predictions = model.predict(x_test)"
   ]
  },
  {
   "cell_type": "code",
   "execution_count": 18,
   "metadata": {},
   "outputs": [
    {
     "name": "stdout",
     "output_type": "stream",
     "text": [
      "Model is saved\n"
     ]
    }
   ],
   "source": [
    "# Save model\n",
    "model.save('D:/cnn_base_model.h5')\n",
    "print(\"Model is saved\")"
   ]
  },
  {
   "cell_type": "markdown",
   "metadata": {},
   "source": [
    "# 2- CNN model with Dropout Regularization and Batchnormalization"
   ]
  },
  {
   "cell_type": "markdown",
   "metadata": {},
   "source": [
    "In order to reduce overfitting, we can use dropout regularization.\n",
    "To get more information about Dropout Regularization, visit this website: \n",
    "https://machinelearningmastery.com/how-to-reduce-overfitting-with-dropout-regularization-in-keras/"
   ]
  },
  {
   "cell_type": "code",
   "execution_count": 27,
   "metadata": {},
   "outputs": [
    {
     "name": "stdout",
     "output_type": "stream",
     "text": [
      "Model: \"sequential_4\"\n",
      "_________________________________________________________________\n",
      "Layer (type)                 Output Shape              Param #   \n",
      "=================================================================\n",
      "conv2d_14 (Conv2D)           (None, 128, 128, 32)      896       \n",
      "_________________________________________________________________\n",
      "batch_normalization_7 (Batch (None, 128, 128, 32)      128       \n",
      "_________________________________________________________________\n",
      "max_pooling2d_10 (MaxPooling (None, 64, 64, 32)        0         \n",
      "_________________________________________________________________\n",
      "dropout_7 (Dropout)          (None, 64, 64, 32)        0         \n",
      "_________________________________________________________________\n",
      "conv2d_15 (Conv2D)           (None, 64, 64, 32)        9248      \n",
      "_________________________________________________________________\n",
      "batch_normalization_8 (Batch (None, 64, 64, 32)        128       \n",
      "_________________________________________________________________\n",
      "max_pooling2d_11 (MaxPooling (None, 32, 32, 32)        0         \n",
      "_________________________________________________________________\n",
      "dropout_8 (Dropout)          (None, 32, 32, 32)        0         \n",
      "_________________________________________________________________\n",
      "conv2d_16 (Conv2D)           (None, 32, 32, 64)        18496     \n",
      "_________________________________________________________________\n",
      "batch_normalization_9 (Batch (None, 32, 32, 64)        256       \n",
      "_________________________________________________________________\n",
      "max_pooling2d_12 (MaxPooling (None, 16, 16, 64)        0         \n",
      "_________________________________________________________________\n",
      "dropout_9 (Dropout)          (None, 16, 16, 64)        0         \n",
      "_________________________________________________________________\n",
      "conv2d_17 (Conv2D)           (None, 16, 16, 64)        36928     \n",
      "_________________________________________________________________\n",
      "batch_normalization_10 (Batc (None, 16, 16, 64)        256       \n",
      "_________________________________________________________________\n",
      "max_pooling2d_13 (MaxPooling (None, 8, 8, 64)          0         \n",
      "_________________________________________________________________\n",
      "dropout_10 (Dropout)         (None, 8, 8, 64)          0         \n",
      "_________________________________________________________________\n",
      "conv2d_18 (Conv2D)           (None, 8, 8, 128)         73856     \n",
      "_________________________________________________________________\n",
      "batch_normalization_11 (Batc (None, 8, 8, 128)         512       \n",
      "_________________________________________________________________\n",
      "max_pooling2d_14 (MaxPooling (None, 4, 4, 128)         0         \n",
      "_________________________________________________________________\n",
      "dropout_11 (Dropout)         (None, 4, 4, 128)         0         \n",
      "_________________________________________________________________\n",
      "conv2d_19 (Conv2D)           (None, 4, 4, 128)         147584    \n",
      "_________________________________________________________________\n",
      "batch_normalization_12 (Batc (None, 4, 4, 128)         512       \n",
      "_________________________________________________________________\n",
      "max_pooling2d_15 (MaxPooling (None, 2, 2, 128)         0         \n",
      "_________________________________________________________________\n",
      "dropout_12 (Dropout)         (None, 2, 2, 128)         0         \n",
      "_________________________________________________________________\n",
      "flatten_3 (Flatten)          (None, 512)               0         \n",
      "_________________________________________________________________\n",
      "dense_3 (Dense)              (None, 128)               65664     \n",
      "_________________________________________________________________\n",
      "dropout_13 (Dropout)         (None, 128)               0         \n",
      "_________________________________________________________________\n",
      "dense_4 (Dense)              (None, 17)                2193      \n",
      "=================================================================\n",
      "Total params: 356,657\n",
      "Trainable params: 355,761\n",
      "Non-trainable params: 896\n",
      "_________________________________________________________________\n",
      "Train on 1764 samples, validate on 756 samples\n",
      "Epoch 1/5\n",
      "1764/1764 [==============================] - 275s 156ms/step - loss: 0.4569 - accuracy: 0.8237 - val_loss: 0.6491 - val_accuracy: 0.7856\n",
      "Epoch 2/5\n",
      "1764/1764 [==============================] - 275s 156ms/step - loss: 0.3001 - accuracy: 0.8862 - val_loss: 0.3749 - val_accuracy: 0.8495\n",
      "Epoch 3/5\n",
      "1764/1764 [==============================] - 278s 158ms/step - loss: 0.2687 - accuracy: 0.9000 - val_loss: 0.3517 - val_accuracy: 0.8555\n",
      "Epoch 4/5\n",
      "1764/1764 [==============================] - 281s 159ms/step - loss: 0.2527 - accuracy: 0.9047 - val_loss: 0.2709 - val_accuracy: 0.9012\n",
      "Epoch 5/5\n",
      "1764/1764 [==============================] - 274s 155ms/step - loss: 0.2416 - accuracy: 0.9084 - val_loss: 0.2532 - val_accuracy: 0.9093\n"
     ]
    }
   ],
   "source": [
    "# Set model\n",
    "model = Sequential()\n",
    "\n",
    "model.add(Conv2D(32, (3,3), activation='relu', kernel_initializer='he_uniform', padding='same', input_shape=(128,128,3)))\n",
    "model.add(BatchNormalization())\n",
    "model.add(MaxPooling2D(pool_size=(2,2)))\n",
    "model.add(Dropout(0.2))\n",
    "\n",
    "model.add(Conv2D(32, (3,3), activation='relu', kernel_initializer='he_uniform', padding='same'))\n",
    "model.add(BatchNormalization())\n",
    "model.add(MaxPooling2D(pool_size=(2,2)))\n",
    "model.add(Dropout(0.2))\n",
    "\n",
    "model.add(Conv2D(64, (3,3), activation='relu', kernel_initializer='he_uniform', padding='same'))\n",
    "model.add(BatchNormalization())\n",
    "model.add(MaxPooling2D(pool_size=(2,2)))\n",
    "model.add(Dropout(0.2))\n",
    "\n",
    "model.add(Conv2D(64, (3,3), activation='relu', kernel_initializer='he_uniform', padding='same'))\n",
    "model.add(BatchNormalization())\n",
    "model.add(MaxPooling2D(pool_size=(2,2)))\n",
    "model.add(Dropout(0.2))\n",
    "\n",
    "model.add(Conv2D(128, (3,3), activation='relu', kernel_initializer='he_uniform', padding='same'))\n",
    "model.add(BatchNormalization())\n",
    "model.add(MaxPooling2D(pool_size=(2,2)))\n",
    "model.add(Dropout(0.2))\n",
    "\n",
    "model.add(Conv2D(128, (3,3), activation='relu', kernel_initializer='he_uniform', padding='same'))\n",
    "model.add(BatchNormalization())\n",
    "model.add(MaxPooling2D(pool_size=(2,2)))\n",
    "model.add(Dropout(0.2))\n",
    "\n",
    "model.add(Flatten())\n",
    "model.add(Dense(128, activation='relu'))\n",
    "model.add(Dropout(0.5))\n",
    "# Classifier\n",
    "model.add(Dense(17, activation='sigmoid'))\n",
    "\n",
    "model.summary()\n",
    "\n",
    "# Compile model\n",
    "model.compile(optimizer='adam', loss='binary_crossentropy', metrics=['accuracy'])\n",
    "# Fit model\n",
    "history = model.fit(x_train, y_train, epochs=5, validation_data=(x_test, y_test), batch_size=64)"
   ]
  },
  {
   "cell_type": "markdown",
   "metadata": {},
   "source": [
    "To evaluate training"
   ]
  },
  {
   "cell_type": "code",
   "execution_count": 28,
   "metadata": {},
   "outputs": [
    {
     "data": {
      "image/png": "[encoded data removed]",
      "text/plain": [
       "<Figure size 432x288 with 1 Axes>"
      ]
     },
     "metadata": {
      "needs_background": "light"
     },
     "output_type": "display_data"
    }
   ],
   "source": [
    "loss = history.history['loss']\n",
    "val_loss = history.history['val_loss']\n",
    "epochs = range(1, len(loss) + 1)\n",
    "plt.plot(epochs, loss, 'y', label='Training loss')\n",
    "plt.plot(epochs, val_loss, 'r', label='Validation loss')\n",
    "plt.title('Training and validation loss')\n",
    "plt.xlabel('Epochs')\n",
    "plt.ylabel('Loss')\n",
    "plt.legend()\n",
    "plt.show()"
   ]
  },
  {
   "cell_type": "code",
   "execution_count": 30,
   "metadata": {},
   "outputs": [
    {
     "data": {
      "image/png": "[encoded data removed]",
      "text/plain": [
       "<Figure size 432x288 with 1 Axes>"
      ]
     },
     "metadata": {
      "needs_background": "light"
     },
     "output_type": "display_data"
    }
   ],
   "source": [
    "acc = history.history['accuracy']\n",
    "val_acc = history.history['val_accuracy']\n",
    "plt.plot(epochs, acc, 'y', label='Training accuracy')\n",
    "plt.plot(epochs, val_acc, 'r', label='Validation accuracy')\n",
    "plt.title('Training and validation accuracy')\n",
    "plt.xlabel('Epochs')\n",
    "plt.ylabel('Accuracy')\n",
    "plt.legend()\n",
    "plt.show()"
   ]
  },
  {
   "cell_type": "code",
   "execution_count": 31,
   "metadata": {},
   "outputs": [
    {
     "name": "stdout",
     "output_type": "stream",
     "text": [
      "Test Score =  0.25320616995216044\n",
      "Test Accuracy =  0.909274697303772\n"
     ]
    }
   ],
   "source": [
    "score = model.evaluate(x_test, y_test, verbose=0)\n",
    "print(\"Test Score = \", score[0])\n",
    "print(\"Test Accuracy = \", score[1])"
   ]
  },
  {
   "cell_type": "code",
   "execution_count": 32,
   "metadata": {},
   "outputs": [],
   "source": [
    "# Predict model\n",
    "predictions = model.predict(x_test)"
   ]
  },
  {
   "cell_type": "code",
   "execution_count": 33,
   "metadata": {},
   "outputs": [
    {
     "name": "stdout",
     "output_type": "stream",
     "text": [
      "Model is saved\n"
     ]
    }
   ],
   "source": [
    "# Save model\n",
    "model.save('D:/cnn_model_dropout.h5')\n",
    "print(\"Model is saved\")"
   ]
  },
  {
   "cell_type": "markdown",
   "metadata": {},
   "source": [
    "# 3- CNN model with Dropout and Data Augmentation"
   ]
  },
  {
   "cell_type": "markdown",
   "metadata": {},
   "source": [
    "Image Augmentation with Image Data generator:\n",
    "https://machinelearningmastery.com/how-to-configure-image-data-augmentation-when-training-deep-learning-neural-networks/\n",
    "\n",
    "Using data augmentation technique, we can create new data modified the existing data.\n",
    "In this case, the puprose of data aumentation is to reduce overfiting"
   ]
  },
  {
   "cell_type": "code",
   "execution_count": 35,
   "metadata": {},
   "outputs": [],
   "source": [
    "# Create generator\n",
    "datagen = ImageDataGenerator(rescale=1.0/255.0)\n",
    "\n",
    "# Prepare iterators \n",
    "train_iterator = datagen.flow(x_train, y_train, batch_size=128)\n",
    "test_iterator = datagen.flow(x_test, y_test, batch_size=128)"
   ]
  },
  {
   "cell_type": "code",
   "execution_count": 37,
   "metadata": {},
   "outputs": [
    {
     "name": "stdout",
     "output_type": "stream",
     "text": [
      "Model: \"sequential_7\"\n",
      "_________________________________________________________________\n",
      "Layer (type)                 Output Shape              Param #   \n",
      "=================================================================\n",
      "conv2d_32 (Conv2D)           (None, 128, 128, 32)      896       \n",
      "_________________________________________________________________\n",
      "conv2d_33 (Conv2D)           (None, 128, 128, 32)      9248      \n",
      "_________________________________________________________________\n",
      "max_pooling2d_25 (MaxPooling (None, 64, 64, 32)        0         \n",
      "_________________________________________________________________\n",
      "conv2d_34 (Conv2D)           (None, 64, 64, 64)        18496     \n",
      "_________________________________________________________________\n",
      "conv2d_35 (Conv2D)           (None, 64, 64, 64)        36928     \n",
      "_________________________________________________________________\n",
      "max_pooling2d_26 (MaxPooling (None, 32, 32, 64)        0         \n",
      "_________________________________________________________________\n",
      "conv2d_36 (Conv2D)           (None, 32, 32, 128)       73856     \n",
      "_________________________________________________________________\n",
      "conv2d_37 (Conv2D)           (None, 32, 32, 128)       147584    \n",
      "_________________________________________________________________\n",
      "max_pooling2d_27 (MaxPooling (None, 16, 16, 128)       0         \n",
      "_________________________________________________________________\n",
      "flatten_6 (Flatten)          (None, 32768)             0         \n",
      "_________________________________________________________________\n",
      "dense_9 (Dense)              (None, 128)               4194432   \n",
      "_________________________________________________________________\n",
      "dense_10 (Dense)             (None, 17)                2193      \n",
      "=================================================================\n",
      "Total params: 4,483,633\n",
      "Trainable params: 4,483,633\n",
      "Non-trainable params: 0\n",
      "_________________________________________________________________\n",
      "Epoch 1/5\n",
      "14/14 [==============================] - 1003s 72s/step - loss: 0.3879 - accuracy: 0.8502 - val_loss: 0.2729 - val_accuracy: 0.9060\n",
      "Epoch 2/5\n",
      "14/14 [==============================] - 1036s 74s/step - loss: 0.2504 - accuracy: 0.9051 - val_loss: 0.2436 - val_accuracy: 0.9115\n",
      "Epoch 3/5\n",
      "14/14 [==============================] - 994s 71s/step - loss: 0.2374 - accuracy: 0.9108 - val_loss: 0.2121 - val_accuracy: 0.9174\n",
      "Epoch 4/5\n",
      "14/14 [==============================] - 993s 71s/step - loss: 0.2238 - accuracy: 0.9142 - val_loss: 0.2312 - val_accuracy: 0.9199\n",
      "Epoch 5/5\n",
      "14/14 [==============================] - 992s 71s/step - loss: 0.2184 - accuracy: 0.9159 - val_loss: 0.2302 - val_accuracy: 0.9169\n",
      "6/6 [==============================] - 122s 20s/step\n",
      "\n",
      "Testing loss: 0.21482250094413757, acc: 0.9169001579284668\n",
      "\n"
     ]
    }
   ],
   "source": [
    "# Set up model\n",
    "model = Sequential()\n",
    "\n",
    "model.add(Conv2D(32, (3,3), activation='relu', kernel_initializer='he_uniform', padding='same', input_shape=(128, 128, 3)))\n",
    "model.add(Conv2D(32, (3,3), activation='relu', kernel_initializer='he_uniform', padding='same'))\n",
    "model.add(MaxPooling2D(pool_size=(2,2)))\n",
    "\n",
    "model.add(Conv2D(64, (3,3), activation='relu', kernel_initializer='he_uniform', padding='same'))\n",
    "model.add(Conv2D(64, (3,3), activation='relu', kernel_initializer='he_uniform', padding='same'))\n",
    "model.add(MaxPooling2D(pool_size=(2,2)))\n",
    "\n",
    "model.add(Conv2D(128, (3,3), activation='relu', kernel_initializer='he_uniform', padding='same'))\n",
    "model.add(Conv2D(128, (3,3), activation='relu', kernel_initializer='he_uniform', padding='same'))\n",
    "model.add(MaxPooling2D(pool_size=(2,2)))\n",
    "\n",
    "model.add(Flatten())\n",
    "model.add(Dense(128, activation='relu', kernel_initializer='he_uniform'))\n",
    "model.add(Dense(17, activation='sigmoid'))\n",
    "model.summary()\n",
    "\n",
    "# Compile model\n",
    "model.compile(optimizer='adam', loss='binary_crossentropy', metrics=['accuracy'])\n",
    "# Fit model\n",
    "history = model.fit_generator(train_iterator, steps_per_epoch = len(train_iterator), epochs = 5, \n",
    "                              validation_data = test_iterator,\n",
    "                              validation_steps = len(test_iterator),\n",
    "                              verbose = 1)\n",
    "\n",
    "# Evaluate model\n",
    "loss, acc = model.evaluate_generator(test_iterator, steps = len(test_iterator), verbose = 1)\n",
    "print('\\nTesting loss: {}, acc: {}\\n'.format(loss, acc))"
   ]
  },
  {
   "cell_type": "code",
   "execution_count": 40,
   "metadata": {},
   "outputs": [
    {
     "data": {
      "image/png": "[encoded data removed]",
      "text/plain": [
       "<Figure size 432x288 with 1 Axes>"
      ]
     },
     "metadata": {
      "needs_background": "light"
     },
     "output_type": "display_data"
    },
    {
     "data": {
      "image/png": "[encoded data removed]",
      "text/plain": [
       "<Figure size 432x288 with 1 Axes>"
      ]
     },
     "metadata": {
      "needs_background": "light"
     },
     "output_type": "display_data"
    }
   ],
   "source": [
    "plt.figure(1)\n",
    "plt.plot(history.history['loss'])\n",
    "plt.plot(history.history['val_loss'])\n",
    "plt.legend(['training', 'validation'])\n",
    "plt.title('loss')\n",
    "plt.xlabel('epoch')\n",
    "\n",
    "plt.figure(2)\n",
    "plt.plot(history.history['accuracy'])\n",
    "plt.plot(history.history['val_accuracy'])\n",
    "plt.legend(['training', 'validation'])\n",
    "plt.title('Acuracy')\n",
    "plt.xlabel('epoch')\n",
    "\n",
    "plt.show()"
   ]
  },
  {
   "cell_type": "code",
   "execution_count": 38,
   "metadata": {},
   "outputs": [],
   "source": [
    "# Predict model\n",
    "predictions = model.predict_generator(test_iterator, steps = len(test_iterator))"
   ]
  },
  {
   "cell_type": "code",
   "execution_count": 46,
   "metadata": {},
   "outputs": [
    {
     "name": "stdout",
     "output_type": "stream",
     "text": [
      "Model is saved\n"
     ]
    }
   ],
   "source": [
    "# Save model\n",
    "model.save('D:/cnn_dataAugmented_model.h5')\n",
    "print(\"Model is saved\")"
   ]
  },
  {
   "cell_type": "markdown",
   "metadata": {},
   "source": [
    "# 4- Transfer learning-Build Fine-tuned VGG16 model"
   ]
  },
  {
   "cell_type": "code",
   "execution_count": 14,
   "metadata": {},
   "outputs": [
    {
     "name": "stdout",
     "output_type": "stream",
     "text": [
      "Model: \"model_3\"\n",
      "_________________________________________________________________\n",
      "Layer (type)                 Output Shape              Param #   \n",
      "=================================================================\n",
      "input_3 (InputLayer)         (None, 128, 128, 3)       0         \n",
      "_________________________________________________________________\n",
      "block1_conv1 (Conv2D)        (None, 128, 128, 64)      1792      \n",
      "_________________________________________________________________\n",
      "block1_conv2 (Conv2D)        (None, 128, 128, 64)      36928     \n",
      "_________________________________________________________________\n",
      "block1_pool (MaxPooling2D)   (None, 64, 64, 64)        0         \n",
      "_________________________________________________________________\n",
      "block2_conv1 (Conv2D)        (None, 64, 64, 128)       73856     \n",
      "_________________________________________________________________\n",
      "block2_conv2 (Conv2D)        (None, 64, 64, 128)       147584    \n",
      "_________________________________________________________________\n",
      "block2_pool (MaxPooling2D)   (None, 32, 32, 128)       0         \n",
      "_________________________________________________________________\n",
      "block3_conv1 (Conv2D)        (None, 32, 32, 256)       295168    \n",
      "_________________________________________________________________\n",
      "block3_conv2 (Conv2D)        (None, 32, 32, 256)       590080    \n",
      "_________________________________________________________________\n",
      "block3_conv3 (Conv2D)        (None, 32, 32, 256)       590080    \n",
      "_________________________________________________________________\n",
      "block3_pool (MaxPooling2D)   (None, 16, 16, 256)       0         \n",
      "_________________________________________________________________\n",
      "block4_conv1 (Conv2D)        (None, 16, 16, 512)       1180160   \n",
      "_________________________________________________________________\n",
      "block4_conv2 (Conv2D)        (None, 16, 16, 512)       2359808   \n",
      "_________________________________________________________________\n",
      "block4_conv3 (Conv2D)        (None, 16, 16, 512)       2359808   \n",
      "_________________________________________________________________\n",
      "block4_pool (MaxPooling2D)   (None, 8, 8, 512)         0         \n",
      "_________________________________________________________________\n",
      "block5_conv1 (Conv2D)        (None, 8, 8, 512)         2359808   \n",
      "_________________________________________________________________\n",
      "block5_conv2 (Conv2D)        (None, 8, 8, 512)         2359808   \n",
      "_________________________________________________________________\n",
      "block5_conv3 (Conv2D)        (None, 8, 8, 512)         2359808   \n",
      "_________________________________________________________________\n",
      "block5_pool (MaxPooling2D)   (None, 4, 4, 512)         0         \n",
      "_________________________________________________________________\n",
      "flatten_3 (Flatten)          (None, 8192)              0         \n",
      "_________________________________________________________________\n",
      "dense_5 (Dense)              (None, 128)               1048704   \n",
      "_________________________________________________________________\n",
      "dense_6 (Dense)              (None, 17)                2193      \n",
      "=================================================================\n",
      "Total params: 15,765,585\n",
      "Trainable params: 1,050,897\n",
      "Non-trainable params: 14,714,688\n",
      "_________________________________________________________________\n"
     ]
    }
   ],
   "source": [
    "# Set VGGNet\n",
    "vggmodel = VGG16(include_top=False, input_shape=(128, 128, 3))\n",
    "\n",
    "# We do not want to train this layer again, we do not update:\n",
    "for layer in vggmodel.layers:\n",
    "    layer.trainable = False\n",
    "    \n",
    "flat_layer = Flatten()(vggmodel.layers[-1].output)\n",
    "dense_layer = Dense(128, activation='relu', kernel_initializer='he_uniform')(flat_layer)\n",
    "output_layer = Dense(17, activation='sigmoid')(dense_layer)\n",
    "\n",
    "# Set a new model\n",
    "newmodel = Model(inputs=vggmodel.inputs, outputs=output_layer) \n",
    "\n",
    "# compile the new model\n",
    "optimizer = SGD(lr=0.01, momentum=0.9)\n",
    "newmodel.compile(optimizer=optimizer, loss='binary_crossentropy', metrics=['accuracy'])\n",
    "\n",
    "newmodel.summary()"
   ]
  },
  {
   "cell_type": "code",
   "execution_count": 15,
   "metadata": {},
   "outputs": [
    {
     "name": "stdout",
     "output_type": "stream",
     "text": [
      "WARNING:tensorflow:From C:\\Users\\VHD\\anaconda3\\envs\\tf\\lib\\site-packages\\keras\\backend\\tensorflow_backend.py:422: The name tf.global_variables is deprecated. Please use tf.compat.v1.global_variables instead.\n",
      "\n",
      "Train on 1764 samples, validate on 756 samples\n",
      "Epoch 1/5\n",
      "1764/1764 [==============================] - 3258s 2s/step - loss: 0.6565 - accuracy: 0.8633 - val_loss: 0.3709 - val_accuracy: 0.9159\n",
      "Epoch 2/5\n",
      "1764/1764 [==============================] - 3214s 2s/step - loss: 0.2582 - accuracy: 0.9299 - val_loss: 0.2421 - val_accuracy: 0.9327\n",
      "Epoch 3/5\n",
      "1764/1764 [==============================] - 3202s 2s/step - loss: 0.1709 - accuracy: 0.9417 - val_loss: 0.1964 - val_accuracy: 0.9312\n",
      "Epoch 4/5\n",
      "1764/1764 [==============================] - 3211s 2s/step - loss: 0.1291 - accuracy: 0.9522 - val_loss: 0.1786 - val_accuracy: 0.9392\n",
      "Epoch 5/5\n",
      "1764/1764 [==============================] - 3236s 2s/step - loss: 0.1086 - accuracy: 0.9600 - val_loss: 0.1797 - val_accuracy: 0.9382\n",
      "756/756 [==============================] - 971s 1s/step\n",
      "\n",
      "Testing loss: 0.17973821212059607, acc: 0.9382198452949524\n",
      "\n"
     ]
    }
   ],
   "source": [
    "# Fit the model and check the accuracy\n",
    "transfer_model = newmodel.fit(x_train, y_train, batch_size=128, epochs=5, verbose=1, validation_data=(x_test, y_test))\n",
    "loss, acc = newmodel.evaluate(x_test, y_test, verbose=1)\n",
    "print('\\nTesting loss: {}, acc: {}\\n'.format(loss, acc))"
   ]
  },
  {
   "cell_type": "code",
   "execution_count": 19,
   "metadata": {},
   "outputs": [
    {
     "data": {
      "image/png": "[encoded data removed]",
      "text/plain": [
       "<Figure size 432x288 with 1 Axes>"
      ]
     },
     "metadata": {
      "needs_background": "light"
     },
     "output_type": "display_data"
    },
    {
     "data": {
      "image/png": "[encoded data removed]",
      "text/plain": [
       "<Figure size 432x288 with 1 Axes>"
      ]
     },
     "metadata": {
      "needs_background": "light"
     },
     "output_type": "display_data"
    }
   ],
   "source": [
    "plt.figure(1)\n",
    "plt.plot(transfer_model.history['loss'])\n",
    "plt.plot(transfer_model.history['val_loss'])\n",
    "plt.legend(['training', 'validation'])\n",
    "plt.title('loss')\n",
    "plt.xlabel('epoch')\n",
    "\n",
    "plt.figure(2)\n",
    "plt.plot(transfer_model.history['accuracy'])\n",
    "plt.plot(transfer_model.history['val_accuracy'])\n",
    "plt.legend(['training', 'validation'])\n",
    "plt.title('Acuracy')\n",
    "plt.xlabel('epoch')\n",
    "\n",
    "plt.show()"
   ]
  },
  {
   "cell_type": "markdown",
   "metadata": {},
   "source": [
    "# Saving the model as h5 file"
   ]
  },
  {
   "cell_type": "code",
   "execution_count": 24,
   "metadata": {},
   "outputs": [],
   "source": [
    "# 1- Save model using pickle\n",
    "import pickle\n",
    "\n",
    "with open(\"D:/transfer_learning_vgg16\", \"wb\") as file:\n",
    "    pickle.dump(transfer_model, file)"
   ]
  },
  {
   "cell_type": "code",
   "execution_count": 23,
   "metadata": {},
   "outputs": [
    {
     "name": "stdout",
     "output_type": "stream",
     "text": [
      "Model is saved\n"
     ]
    }
   ],
   "source": [
    "# 2- Save model using keras\n",
    "newmodel.save('D:/transfer_model.h5')\n",
    "print(\"Model is saved\")"
   ]
  },
  {
   "cell_type": "markdown",
   "metadata": {},
   "source": [
    "# Loading the saved model"
   ]
  },
  {
   "cell_type": "code",
   "execution_count": 66,
   "metadata": {},
   "outputs": [],
   "source": [
    "from keras.models import load_model\n",
    " \n",
    "# load model\n",
    "model = load_model('D:/saved model/cnn_dataAugmented_model.h5')\n",
    "# summarize model.\n",
    "#model.summary()"
   ]
  },
  {
   "cell_type": "markdown",
   "metadata": {},
   "source": [
    "# Comapre the results of trained models"
   ]
  },
  {
   "cell_type": "code",
   "execution_count": 53,
   "metadata": {},
   "outputs": [
    {
     "data": {
      "text/html": [
       "<div>\n",
       "<style scoped>\n",
       "    .dataframe tbody tr th:only-of-type {\n",
       "        vertical-align: middle;\n",
       "    }\n",
       "\n",
       "    .dataframe tbody tr th {\n",
       "        vertical-align: top;\n",
       "    }\n",
       "\n",
       "    .dataframe thead th {\n",
       "        text-align: right;\n",
       "    }\n",
       "</style>\n",
       "<table border=\"1\" class=\"dataframe\">\n",
       "  <thead>\n",
       "    <tr style=\"text-align: right;\">\n",
       "      <th></th>\n",
       "      <th>Models</th>\n",
       "      <th>Validation loss</th>\n",
       "      <th>Validation accuracy</th>\n",
       "    </tr>\n",
       "  </thead>\n",
       "  <tbody>\n",
       "    <tr>\n",
       "      <th>0</th>\n",
       "      <td>cnn_base_model</td>\n",
       "      <td>0.2302</td>\n",
       "      <td>0.9134</td>\n",
       "    </tr>\n",
       "    <tr>\n",
       "      <th>1</th>\n",
       "      <td>cnn_model_dropout</td>\n",
       "      <td>0.2532</td>\n",
       "      <td>0.9093</td>\n",
       "    </tr>\n",
       "    <tr>\n",
       "      <th>2</th>\n",
       "      <td>cnn_dataAugmented_model</td>\n",
       "      <td>0.2302</td>\n",
       "      <td>0.9169</td>\n",
       "    </tr>\n",
       "    <tr>\n",
       "      <th>3</th>\n",
       "      <td>transfer_model</td>\n",
       "      <td>0.1797</td>\n",
       "      <td>0.9382</td>\n",
       "    </tr>\n",
       "  </tbody>\n",
       "</table>\n",
       "</div>"
      ],
      "text/plain": [
       "                    Models Validation loss Validation accuracy\n",
       "0           cnn_base_model          0.2302              0.9134\n",
       "1        cnn_model_dropout          0.2532              0.9093\n",
       "2  cnn_dataAugmented_model          0.2302              0.9169\n",
       "3           transfer_model          0.1797              0.9382"
      ]
     },
     "execution_count": 53,
     "metadata": {},
     "output_type": "execute_result"
    }
   ],
   "source": [
    "models = ['cnn_base_model', 'cnn_model_dropout', 'cnn_dataAugmented_model', 'transfer_model']\n",
    "\n",
    "val_loss = [0.2302, 0.2532, 0.2302 , 0.1797]\n",
    "val_accuracy = [0.9134, 0.9093, 0.9169, 0.9382]\n",
    "\n",
    "dic = {'Models': models, 'Validation loss': val_loss, 'Validation accuracy': val_accuracy}\n",
    "\n",
    "df_models = pd.DataFrame.from_dict(dic, orient='index')\n",
    "df_models.transpose()"
   ]
  },
  {
   "cell_type": "markdown",
   "metadata": {},
   "source": [
    "# Model Metrics"
   ]
  },
  {
   "cell_type": "markdown",
   "metadata": {},
   "source": [
    "Three metrics to evaluate the classification accuracy of neural network, which are being used commonly, incldue:\n",
    "\n",
    "1- Precision\n",
    "\n",
    "2- Recall\n",
    "\n",
    "3- F1 Score"
   ]
  },
  {
   "cell_type": "code",
   "execution_count": 67,
   "metadata": {},
   "outputs": [],
   "source": [
    "# Evaluate augmnented model result\n",
    "\n",
    "# Predict the probability\n",
    "y_probs = model.predict(x_test, verbose=0)\n",
    "# Predict each class\n",
    "y_classes = model.predict_classes(x_test, verbose=0)"
   ]
  },
  {
   "cell_type": "code",
   "execution_count": 75,
   "metadata": {},
   "outputs": [],
   "source": [
    "# y_test should convert to single-digit ones from one-hot-encoded\n",
    "predictions = np.argmax(y_test, axis=1)"
   ]
  },
  {
   "cell_type": "code",
   "execution_count": 94,
   "metadata": {},
   "outputs": [],
   "source": [
    "def cal_accuracy(predictions, y_classes):\n",
    "    \n",
    "    # precision tp / (tp + fp)\n",
    "    # 'average' parameter is required for multiclass/multilabel targets\n",
    "    precision = precision_score(predictions, y_classes, average='weighted')\n",
    "    print('Precision score is : {}'.format(precision))\n",
    "    \n",
    "    # recall: tp / (tp + fn)\n",
    "    recall = recall_score(predictions, y_classes, average='weighted')\n",
    "    print('Recall score is : {}'.format(recall))\n",
    "    \n",
    "    # f1: 2 tp / (2 tp + fp + fn)\n",
    "    f1 = f1_score(predictions, y_classes, average='weighted')\n",
    "    print('f1 score is : {}'.format(f1))\n",
    "    \n",
    "    return precision, recall, f1"
   ]
  },
  {
   "cell_type": "code",
   "execution_count": 95,
   "metadata": {},
   "outputs": [
    {
     "name": "stdout",
     "output_type": "stream",
     "text": [
      "Precision score is : 0.4824673637328266\n",
      "Recall score is : 0.1917989417989418\n",
      "f1 score is : 0.22338708100709745\n",
      "(0.4824673637328266, 0.1917989417989418, 0.22338708100709745)\n"
     ]
    }
   ],
   "source": [
    "metrics = cal_accuracy(predictions, y_classes) \n",
    "print(metrics)"
   ]
  },
  {
   "cell_type": "code",
   "execution_count": null,
   "metadata": {},
   "outputs": [],
   "source": []
  }
 ],
 "metadata": {
  "kernelspec": {
   "display_name": "Python 3",
   "language": "python",
   "name": "python3"
  },
  "language_info": {
   "codemirror_mode": {
    "name": "ipython",
    "version": 3
   },
   "file_extension": ".py",
   "mimetype": "text/x-python",
   "name": "python",
   "nbconvert_exporter": "python",
   "pygments_lexer": "ipython3",
   "version": "3.7.7"
  }
 },
 "nbformat": 4,
 "nbformat_minor": 4
}
